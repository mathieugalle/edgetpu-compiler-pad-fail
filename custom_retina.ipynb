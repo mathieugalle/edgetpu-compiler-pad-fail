{
 "cells": [
  {
   "cell_type": "code",
   "execution_count": 1,
   "metadata": {},
   "outputs": [
    {
     "name": "stderr",
     "output_type": "stream",
     "text": [
      "/home/tensorflow/.local/lib/python3.8/site-packages/tqdm/auto.py:22: TqdmWarning: IProgress not found. Please update jupyter and ipywidgets. See https://ipywidgets.readthedocs.io/en/stable/user_install.html\n",
      "  from .autonotebook import tqdm as notebook_tqdm\n"
     ]
    },
    {
     "name": "stdout",
     "output_type": "stream",
     "text": [
      "WARNING:tensorflow:`input_shape` is undefined or non-square, or `rows` is not in [96, 128, 160, 192, 224]. Weights for input shape (224, 224) will be loaded as the default.\n"
     ]
    },
    {
     "name": "stderr",
     "output_type": "stream",
     "text": [
      "/usr/local/lib/python3.8/dist-packages/keras/initializers/initializers_v2.py:120: UserWarning: The initializer RandomNormal is unseeded and being called multiple times, which will return identical values  each time (even if the initializer is unseeded). Please update your code to provide a seed to the initializer, or avoid using the same initalizer instance more than once.\n",
      "  warnings.warn(\n"
     ]
    },
    {
     "name": "stdout",
     "output_type": "stream",
     "text": [
      "(None, 120, 160, 3)\n",
      "shape p3_output        : (None, 15, 20, 16)\n",
      "shape p3_output_padded : (None, 16, 20, 16)\n",
      "shape p4_output : (None, 8, 10, 16)\n",
      "shape self.upsample_2x(p4_output) : (None, 16, 20, 16)\n",
      "shape p3_output        : (1, 15, 20, 16)\n",
      "shape p3_output_padded : (1, 16, 20, 16)\n",
      "shape p4_output : (1, 8, 10, 16)\n",
      "shape self.upsample_2x(p4_output) : (1, 16, 20, 16)\n",
      "(1, 3852, 9)\n",
      "(3852, 9)\n",
      "Model: \"MobileRetinaNet\"\n",
      "_________________________________________________________________\n",
      " Layer (type)                Output Shape              Param #   \n",
      "=================================================================\n",
      " backbone-mobile-net-v2 (Fun  [(None, 15, 20, 192),    2257984   \n",
      " ctional)                     (None, 8, 10, 576),                \n",
      "                              (None, 4, 5, 1280)]                \n",
      "                                                                 \n",
      " FeaturePyramid (FeaturePyra  multiple                 2484416   \n",
      " mid)                                                            \n",
      "                                                                 \n",
      " sequential (Sequential)     (None, None, None, 45)    13485     \n",
      "                                                                 \n",
      " sequential_1 (Sequential)   (None, None, None, 36)    12180     \n",
      "                                                                 \n",
      "=================================================================\n",
      "Total params: 2,510,081\n",
      "Trainable params: 2,475,969\n",
      "Non-trainable params: 34,112\n",
      "_________________________________________________________________\n"
     ]
    }
   ],
   "source": [
    "from custom_retina import *\n",
    "import tensorflow as tf\n",
    "\n",
    "padded = True # to generate the \"padded\" model, which fails edgetpu compilation\n",
    "# if \"False\", the model compiles with edgetpucompiler\n",
    "\n",
    "num_classes = 5\n",
    "model = MobileRetinaNet(num_classes, conv_filters=16, num_convs = 3, padded = padded)\n",
    "\n",
    "if padded:\n",
    "    input_shape = (120, 160, 3)\n",
    "else:\n",
    "    # To remove the \"Pad\" operation, the input height must have 1 more pixel on the \"Add\" operation, so 4 pixels on input shape\n",
    "    input_shape = (124, 160, 3) \n",
    "\n",
    "input_shape_with_none = (None,) + input_shape\n",
    "print(input_shape_with_none)\n",
    "model.build(input_shape = input_shape_with_none)\n",
    "\n",
    "one_sample = tf.random.normal(shape = (1,) + input_shape )\n",
    "\n",
    "y = model(one_sample)\n",
    "print(y.shape)\n",
    "print(y[0].shape)\n",
    "\n",
    "model.summary()"
   ]
  },
  {
   "cell_type": "code",
   "execution_count": 2,
   "metadata": {},
   "outputs": [],
   "source": [
    "loss_fn = RetinaNetLoss(num_classes)\n",
    "learning_rates = [2.5e-06, 0.000625, 0.00125, 0.0025, 0.00025, 2.5e-05]\n",
    "learning_rate_boundaries = [125, 250, 500, 240000, 360000]\n",
    "learning_rate_fn = tf.optimizers.schedules.PiecewiseConstantDecay(\n",
    "    boundaries=learning_rate_boundaries, values=learning_rates\n",
    ")\n",
    "optimizer = tf.optimizers.SGD(learning_rate=learning_rate_fn, momentum=0.9)\n",
    "model.compile(loss = loss_fn, optimizer=optimizer)"
   ]
  },
  {
   "cell_type": "code",
   "execution_count": 3,
   "metadata": {},
   "outputs": [
    {
     "name": "stdout",
     "output_type": "stream",
     "text": [
      "Epoch 1/2\n",
      "shape p3_output        : (7, 15, 20, 16)\n",
      "shape p3_output_padded : (7, 16, 20, 16)\n",
      "shape p4_output : (7, 8, 10, 16)\n",
      "shape self.upsample_2x(p4_output) : (7, 16, 20, 16)\n",
      "shape p3_output        : (7, 15, 20, 16)\n",
      "shape p3_output_padded : (7, 16, 20, 16)\n",
      "shape p4_output : (7, 8, 10, 16)\n",
      "shape self.upsample_2x(p4_output) : (7, 16, 20, 16)\n",
      "11/11 [==============================] - ETA: 0s - loss: 1.1284shape p3_output        : (7, 15, 20, 16)\n",
      "shape p3_output_padded : (7, 16, 20, 16)\n",
      "shape p4_output : (7, 8, 10, 16)\n",
      "shape self.upsample_2x(p4_output) : (7, 16, 20, 16)\n",
      "11/11 [==============================] - 7s 174ms/step - loss: 1.1284 - val_loss: 1.1284\n",
      "Epoch 2/2\n",
      "11/11 [==============================] - 1s 95ms/step - loss: 1.1284 - val_loss: 1.1284\n"
     ]
    },
    {
     "data": {
      "text/plain": [
       "<keras.callbacks.History at 0x7f84fc7e41c0>"
      ]
     },
     "execution_count": 3,
     "metadata": {},
     "output_type": "execute_result"
    }
   ],
   "source": [
    "# Trying to fit it to zeros, just to test the architecture\n",
    "x = tf.random.normal(shape = (100,) + input_shape )\n",
    "true_y = tf.zeros(shape = (100, 3852, 9))\n",
    "\n",
    "train_x = x[:80,...]\n",
    "train_y = true_y[:80,...]\n",
    "test_x = x[80:,...]\n",
    "test_y = true_y[80:,...]\n",
    "\n",
    "train_dataset = tf.data.Dataset.from_tensor_slices((train_x, train_y))\n",
    "test_dataset = tf.data.Dataset.from_tensor_slices((test_x, test_y))\n",
    "\n",
    "BATCH_SIZE = 7\n",
    "SHUFFLE_BUFFER_SIZE = 10\n",
    "\n",
    "train_dataset = train_dataset.shuffle(SHUFFLE_BUFFER_SIZE).batch(BATCH_SIZE, drop_remainder=True)\n",
    "test_dataset = test_dataset.batch(BATCH_SIZE, drop_remainder=True)\n",
    "\n",
    "model.fit(train_dataset,\n",
    "    epochs=2,\n",
    "    validation_data = test_dataset)"
   ]
  },
  {
   "cell_type": "code",
   "execution_count": 4,
   "metadata": {},
   "outputs": [
    {
     "name": "stdout",
     "output_type": "stream",
     "text": [
      "shape p3_output        : (None, 15, 20, 16)\n",
      "shape p3_output_padded : (None, 16, 20, 16)\n",
      "shape p4_output : (None, 8, 10, 16)\n",
      "shape self.upsample_2x(p4_output) : (None, 16, 20, 16)\n",
      "shape p3_output        : (None, 15, 20, 16)\n",
      "shape p3_output_padded : (None, 16, 20, 16)\n",
      "shape p4_output : (None, 8, 10, 16)\n",
      "shape self.upsample_2x(p4_output) : (None, 16, 20, 16)\n",
      "shape p3_output        : (None, 15, 20, 16)\n",
      "shape p3_output_padded : (None, 16, 20, 16)\n",
      "shape p4_output : (None, 8, 10, 16)\n",
      "shape self.upsample_2x(p4_output) : (None, 16, 20, 16)\n",
      "get_config RetinaNetLoss\n",
      "shape p3_output        : (None, 15, 20, 16)\n",
      "shape p3_output_padded : (None, 16, 20, 16)\n",
      "shape p4_output : (None, 8, 10, 16)\n",
      "shape self.upsample_2x(p4_output) : (None, 16, 20, 16)\n",
      "shape p3_output        : (None, 15, 20, 16)\n",
      "shape p3_output_padded : (None, 16, 20, 16)\n",
      "shape p4_output : (None, 8, 10, 16)\n",
      "shape self.upsample_2x(p4_output) : (None, 16, 20, 16)\n",
      "shape p3_output        : (None, 15, 20, 16)\n",
      "shape p3_output_padded : (None, 16, 20, 16)\n",
      "shape p4_output : (None, 8, 10, 16)\n",
      "shape self.upsample_2x(p4_output) : (None, 16, 20, 16)\n",
      "shape p3_output        : (None, 15, 20, 16)\n",
      "shape p3_output_padded : (None, 16, 20, 16)\n",
      "shape p4_output : (None, 8, 10, 16)\n",
      "shape self.upsample_2x(p4_output) : (None, 16, 20, 16)\n"
     ]
    },
    {
     "name": "stderr",
     "output_type": "stream",
     "text": [
      "WARNING:absl:Found untraced functions such as _jit_compiled_convolution_op, _jit_compiled_convolution_op, _jit_compiled_convolution_op, _jit_compiled_convolution_op, _jit_compiled_convolution_op while saving (showing 5 of 84). These functions will not be directly callable after loading.\n"
     ]
    },
    {
     "name": "stdout",
     "output_type": "stream",
     "text": [
      "INFO:tensorflow:Assets written to: /tmp/tmpsqmmzvjv/assets\n"
     ]
    },
    {
     "name": "stderr",
     "output_type": "stream",
     "text": [
      "INFO:tensorflow:Assets written to: /tmp/tmpsqmmzvjv/assets\n"
     ]
    },
    {
     "name": "stdout",
     "output_type": "stream",
     "text": [
      "shape p3_output        : (1, 15, 20, 16)\n",
      "shape p3_output_padded : (1, 16, 20, 16)\n",
      "shape p4_output : (1, 8, 10, 16)\n",
      "shape self.upsample_2x(p4_output) : (1, 16, 20, 16)\n"
     ]
    },
    {
     "name": "stderr",
     "output_type": "stream",
     "text": [
      "WARNING:absl:Please consider switching to the new converter by setting experimental_new_converter=True. The old converter is deprecated.\n",
      "/usr/local/lib/python3.8/dist-packages/tensorflow/lite/python/convert.py:766: UserWarning: Statistics for quantized inputs were expected, but not specified; continuing anyway.\n",
      "  warnings.warn(\"Statistics for quantized inputs were expected, but not \"\n"
     ]
    },
    {
     "name": "stdout",
     "output_type": "stream",
     "text": [
      "Estimated count of arithmetic ops: 271.352 M  ops, equivalently 135.676 M  MACs\n"
     ]
    },
    {
     "name": "stderr",
     "output_type": "stream",
     "text": [
      "fully_quantize: 0, inference_type: 6, input_inference_type: UINT8, output_inference_type: UINT8\n"
     ]
    }
   ],
   "source": [
    "import tensorflow as tf\n",
    "from PIL import Image\n",
    "import numpy as np\n",
    "import os\n",
    "\n",
    "def representative_dataset_gen():\n",
    "    count = 0\n",
    "    files = os.listdir(\"representative_dataset/\")\n",
    "    for j in files:\n",
    "        if count<200:\n",
    "            img = Image.open(\"representative_dataset/\" + j)\n",
    "            img = img.resize((160, 124))\n",
    "\n",
    "            width, height = img.size\n",
    "            bands = img.getbands()\n",
    "            array = np.asarray(img, dtype=np.float32)\n",
    "            #array = preprocess_input(array)\n",
    "            count=count+1\n",
    "            yield[np.expand_dims(array, axis=0)]\n",
    "        else:\n",
    "            break\n",
    "\n",
    "converter = tf.lite.TFLiteConverter.from_keras_model(model)\n",
    "\n",
    "converter.experimental_new_converter = False  # This is needed for the converter to work (false)\n",
    "# and with True, there are strange Pack / Reshape operations\n",
    "\n",
    "converter.optimizations = [tf.lite.Optimize.DEFAULT]\n",
    "converter.representative_dataset = representative_dataset_gen\n",
    "converter.target_spec.supported_ops = [tf.lite.OpsSet.TFLITE_BUILTINS_INT8]\n",
    "converter.inference_input_type = tf.uint8\n",
    "converter.inference_output_type = tf.uint8\n",
    "tflite_model = converter.convert()\n",
    "\n",
    "filename = 'mobile_retina_net' + (\"_padded\" if padded else \"_not_padded\") + '.tflite'\n",
    "with open(filename, 'wb') as f:\n",
    "  f.write(tflite_model)\n"
   ]
  },
  {
   "cell_type": "code",
   "execution_count": 5,
   "metadata": {},
   "outputs": [
    {
     "data": {
      "text/plain": [
       "'2.10.0'"
      ]
     },
     "execution_count": 5,
     "metadata": {},
     "output_type": "execute_result"
    }
   ],
   "source": [
    "tf.__version__"
   ]
  },
  {
   "cell_type": "code",
   "execution_count": 2,
   "metadata": {},
   "outputs": [
    {
     "data": {
      "text/plain": [
       "array([[19, 22],\n",
       "       [43, 50]])"
      ]
     },
     "execution_count": 2,
     "metadata": {},
     "output_type": "execute_result"
    }
   ],
   "source": []
  }
 ],
 "metadata": {
  "kernelspec": {
   "display_name": "Python 3.8.10 64-bit",
   "language": "python",
   "name": "python3"
  },
  "language_info": {
   "codemirror_mode": {
    "name": "ipython",
    "version": 3
   },
   "file_extension": ".py",
   "mimetype": "text/x-python",
   "name": "python",
   "nbconvert_exporter": "python",
   "pygments_lexer": "ipython3",
   "version": "3.8.10 (default, Jun 22 2022, 20:18:18) \n[GCC 9.4.0]"
  },
  "orig_nbformat": 4,
  "vscode": {
   "interpreter": {
    "hash": "916dbcbb3f70747c44a77c7bcd40155683ae19c65e1c03b4aa3499c5328201f1"
   }
  }
 },
 "nbformat": 4,
 "nbformat_minor": 2
}
